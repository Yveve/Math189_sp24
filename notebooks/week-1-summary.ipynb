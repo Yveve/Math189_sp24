{
 "cells": [
  {
   "cell_type": "markdown",
   "id": "f5699a71",
   "metadata": {
    "tags": []
   },
   "source": [
    "# Week 1 Summary\n",
    "> NAME: $\\color{red}{\\text{    Yuan Ji     }}$\n",
    "> \n",
    "> PID: $\\color{red}{\\text{    A16822092     }}$\n",
    ">\n",
    "> \n",
    "---"
   ]
  },
  {
   "cell_type": "markdown",
   "id": "b0e61ba4-c23c-44b6-8933-ad5c5013a12d",
   "metadata": {},
   "source": [
    "I certify that the following write-up is my own work, and have abided by the UCSD Academic Integrity Guidelines.\n",
    "\n",
    "- [x] Yes\n",
    "- [ ] No"
   ]
  },
  {
   "cell_type": "markdown",
   "id": "af9291c5",
   "metadata": {},
   "source": [
    "% # %load tex-macros\n",
    "<div hidden>\n",
    "\\newcommand{\\require}[1]{}\n",
    "\n",
    "$\\require{begingroup}\\require{newcommand}$\n",
    "$\\long\\def \\forcecommand #1{\\providecommand{#1}{}\\renewcommand{#1}}$\n",
    "$\\forcecommand{\\defeq}{\\stackrel{\\small\\bullet}{=}}$\n",
    "$\\forcecommand{\\ra}{\\rangle}$\n",
    "$\\forcecommand{\\la}{\\langle}$\n",
    "$\\forcecommand{\\pr}{{\\mathbb P}}$\n",
    "$\\forcecommand{\\qr}{{\\mathbb Q}}$\n",
    "$\\forcecommand{\\xv}{{\\boldsymbol{x}}}$\n",
    "$\\forcecommand{\\av}{{\\boldsymbol{a}}}$\n",
    "$\\forcecommand{\\bv}{{\\boldsymbol{b}}}$\n",
    "$\\forcecommand{\\cv}{{\\boldsymbol{c}}}$\n",
    "$\\forcecommand{\\dv}{{\\boldsymbol{d}}}$\n",
    "$\\forcecommand{\\ev}{{\\boldsymbol{e}}}$\n",
    "$\\forcecommand{\\fv}{{\\boldsymbol{f}}}$\n",
    "$\\forcecommand{\\gv}{{\\boldsymbol{g}}}$\n",
    "$\\forcecommand{\\hv}{{\\boldsymbol{h}}}$\n",
    "$\\forcecommand{\\nv}{{\\boldsymbol{n}}}$\n",
    "$\\forcecommand{\\sv}{{\\boldsymbol{s}}}$\n",
    "$\\forcecommand{\\tv}{{\\boldsymbol{t}}}$\n",
    "$\\forcecommand{\\uv}{{\\boldsymbol{u}}}$\n",
    "$\\forcecommand{\\vv}{{\\boldsymbol{v}}}$\n",
    "$\\forcecommand{\\wv}{{\\boldsymbol{w}}}$\n",
    "$\\forcecommand{\\zerov}{{\\mathbf{0}}}$\n",
    "$\\forcecommand{\\onev}{{\\mathbf{0}}}$\n",
    "$\\forcecommand{\\phiv}{{\\boldsymbol{\\phi}}}$\n",
    "$\\forcecommand{\\cc}{{\\check{C}}}$\n",
    "$\\forcecommand{\\xv}{{\\boldsymbol{x}}}$\n",
    "$\\forcecommand{\\Xv}{{\\boldsymbol{X}\\!}}$\n",
    "$\\forcecommand{\\yv}{{\\boldsymbol{y}}}$\n",
    "$\\forcecommand{\\Yv}{{\\boldsymbol{Y}}}$\n",
    "$\\forcecommand{\\zv}{{\\boldsymbol{z}}}$\n",
    "$\\forcecommand{\\Zv}{{\\boldsymbol{Z}}}$\n",
    "$\\forcecommand{\\Iv}{{\\boldsymbol{I}}}$\n",
    "$\\forcecommand{\\Jv}{{\\boldsymbol{J}}}$\n",
    "$\\forcecommand{\\Cv}{{\\boldsymbol{C}}}$\n",
    "$\\forcecommand{\\Ev}{{\\boldsymbol{E}}}$\n",
    "$\\forcecommand{\\Fv}{{\\boldsymbol{F}}}$\n",
    "$\\forcecommand{\\Gv}{{\\boldsymbol{G}}}$\n",
    "$\\forcecommand{\\Hv}{{\\boldsymbol{H}}}$\n",
    "$\\forcecommand{\\alphav}{{\\boldsymbol{\\alpha}}}$\n",
    "$\\forcecommand{\\epsilonv}{{\\boldsymbol{\\epsilon}}}$\n",
    "$\\forcecommand{\\betav}{{\\boldsymbol{\\beta}}}$\n",
    "$\\forcecommand{\\deltav}{{\\boldsymbol{\\delta}}}$\n",
    "$\\forcecommand{\\gammav}{{\\boldsymbol{\\gamma}}}$\n",
    "$\\forcecommand{\\etav}{{\\boldsymbol{\\eta}}}$\n",
    "$\\forcecommand{\\piv}{{\\boldsymbol{\\pi}}}$\n",
    "$\\forcecommand{\\thetav}{{\\boldsymbol{\\theta}}}$\n",
    "$\\forcecommand{\\tauv}{{\\boldsymbol{\\tau}}}$\n",
    "$\\forcecommand{\\muv}{{\\boldsymbol{\\mu}}}$\n",
    "$%$\n",
    "$\\forcecommand{\\sd}{\\text{SD}}$\n",
    "$\\forcecommand{\\se}{\\text{SE}}$\n",
    "$\\forcecommand{\\med}{\\text{median}}$\n",
    "$\\forcecommand{\\median}{\\text{median}}$\n",
    "$%$\n",
    "$\\forcecommand{\\Ber}{{\\text{Ber}}}$\n",
    "$\\forcecommand{\\Bin}{{\\text{Bin}}}$\n",
    "$\\forcecommand{\\Geo}{{\\text{Geo}}}$\n",
    "$\\forcecommand{\\Unif}{{\\text{Unif}}}$\n",
    "$\\forcecommand{\\Poi}{{\\text{Poi}}}$\n",
    "$\\forcecommand{\\Exp}{{\\text{Exp}}}$\n",
    "$\\forcecommand{\\Chisq}{{\\chi^2}}$\n",
    "$\\forcecommand{\\N}{\\mathbb{N}}$\n",
    "$\\forcecommand{\\iid}{{\\stackrel{iid}{\\sim}}}$\n",
    "$\\forcecommand{\\px}{p_{X}}$\n",
    "$\\forcecommand{\\fx}{f_{X}}$\n",
    "$\\forcecommand{\\Fx}{F_{X}}$\n",
    "$\\forcecommand{\\py}{p_{Y}}$\n",
    "$\\forcecommand{\\pxy}{p_{X,Y}}$\n",
    "$\\forcecommand{\\po}{{p_0}}$\n",
    "$\\forcecommand{\\pa}{{p_a}}$\n",
    "$\\forcecommand{\\Xbar}{\\overline{X}}$\n",
    "$\\forcecommand{\\Ybar}{\\overline{Y}}$\n",
    "$\\forcecommand{\\Zbar}{\\overline{Z}}$\n",
    "$\\forcecommand{\\nXbar}{n \\cdot \\overline{X}}$\n",
    "$\\forcecommand{\\nYbar}{n \\cdot \\overline{Y}}$\n",
    "$\\forcecommand{\\nZbar}{n \\cdot \\overline{Z}}$\n",
    "$\\forcecommand{\\Xn}{X_1, X_2, \\dots, X_n}$\n",
    "$\\forcecommand{\\Xm}{{X_1, X_2, \\dots, X_m}}$\n",
    "$\\forcecommand{\\Yn}{Y_1, Y_2, \\dots, Y_n}$\n",
    "$\\forcecommand{\\Ym}{{Y_1, Y_2, \\dots, Y_m}}$\n",
    "$\\forcecommand{\\sumXn}{X_1 + X_2 + \\dots + X_n}$\n",
    "$\\forcecommand{\\sumym}{Y_1 + Y_2 + \\dots + Y_m}$\n",
    "$\\forcecommand{\\la}{\\ell_\\alpha}$\n",
    "$\\forcecommand{\\ua}{u_\\alpha}$\n",
    "$\\forcecommand{\\at}{{\\alpha/2}}$\n",
    "$\\forcecommand{\\mux}{\\mu_{X}}$\n",
    "$\\forcecommand{\\muy}{\\mu_{Y}}$\n",
    "$\\forcecommand{\\sx}{\\sigma_{X}}$\n",
    "$\\forcecommand{\\sy}{\\sigma_{Y}}$\n",
    "$\\forcecommand{\\pvalue}{$p$-value}$\n",
    "$\\forcecommand{\\Ho}{H_{0}}$\n",
    "$\\forcecommand{\\Ha}{H_{a}}$\n",
    "\n",
    "\\vskip-\\parskip\n",
    "\\vskip-\\baselineskip\n",
    "</div>"
   ]
  },
  {
   "cell_type": "markdown",
   "id": "2e3d69d4-fc3b-467c-867a-232ea44b034d",
   "metadata": {},
   "source": [
    "---"
   ]
  },
  {
   "cell_type": "markdown",
   "id": "de700466",
   "metadata": {},
   "source": [
    "## Key Takeaways from Week 1"
   ]
  },
  {
   "cell_type": "markdown",
   "id": "e89169e3",
   "metadata": {},
   "source": [
    "\n",
    "#### Tuesday: \n",
    "**Statistical Thinking** from the boiling-tea story of Fisher:\n",
    "\n",
    "* Experiment Design\n",
    "* P value\n",
    "* A/B Testing: evaluate the effectiveness of  new features, algorithms, etc.\n",
    "* Genome-wide association studies (GWAS): inherently a hypothesis testing problem in ultra-high-dimensional setting.\n",
    "* Astrophysics and cosmology: apply classical statistical principles\n",
    "\n",
    "**Data Analysis**\n",
    "We use the data to identify patterns. \n",
    "The data we analyze is assumed to be fixed.\n",
    "\n",
    "**Statistical Inference**\n",
    "We use the data to understand the population from which the data was collected.\n",
    "The data is assumed to be one instance from a universe of datasets we could have collected.\n",
    "\n",
    "**Frictionless Replications**\n",
    "The currency of discourse today. Researchers are thinking: Can't I just try this now?\n",
    "\n",
    "**Syllabus Overview & Class Expectation**\n"
   ]
  },
  {
   "cell_type": "markdown",
   "id": "29081a6f",
   "metadata": {},
   "source": [
    "#### Thursday\n",
    "\n",
    "Some basics of **Markdown and LATEX**"
   ]
  },
  {
   "cell_type": "markdown",
   "id": "5928a1a1",
   "metadata": {},
   "source": [
    "---"
   ]
  },
  {
   "cell_type": "markdown",
   "id": "d9ac3593",
   "metadata": {},
   "source": [
    "## Tue, Apr 2nd"
   ]
  },
  {
   "cell_type": "markdown",
   "id": "50aa8ef5",
   "metadata": {},
   "source": [
    "### Basics of markdown"
   ]
  },
  {
   "cell_type": "markdown",
   "id": "aa7c1972",
   "metadata": {},
   "source": [
    "**Bullet Lists and Numbered Lists**"
   ]
  },
  {
   "cell_type": "markdown",
   "id": "60821a36",
   "metadata": {},
   "source": [
    "**1.1: Creating sections**\n",
    "\n",
    "# Level 1\n",
    "---\n",
    "## Level 2\n",
    "### Level 3\n",
    "#### Level 4"
   ]
  },
  {
   "cell_type": "markdown",
   "id": "c9643966",
   "metadata": {},
   "source": [
    "**1.2: Bullet lists and numbered lists**\n",
    "\n",
    "Bullet list:\n",
    "* Item 1\n",
    "    - Subitem 1\n",
    "        - Subsubitem 1\n",
    "* Item 2\n",
    "* Item 3\n",
    "\n",
    "Enumeration List:\n",
    "1. Item 1\n",
    "    * Subitem 1\n",
    "        * Subsubitem 1\n",
    "2. Item 2\n",
    "3. Item 3"
   ]
  },
  {
   "cell_type": "markdown",
   "id": "dd300ee4",
   "metadata": {},
   "source": [
    "**1.3: Math**\n",
    "\n",
    "$\\LaTeX$"
   ]
  },
  {
   "cell_type": "markdown",
   "id": "86aa165b",
   "metadata": {},
   "source": [
    "In-line math expression $x^2_1 + \\beta = 2$, and $x^2_1 + \\omega = 2$.\n",
    "\n",
    "Own-line math expression $$ x^2_1 + \\beta = 2$$.\n",
    "\n",
    "Multiple equations\n",
    "$$\n",
    "\\overline{x} = \\frac{1}{n}\\sum_{i=1}^n X_i\\\\\n",
    "\\text{Var}(X) = \\frac{1}{n-1} \\sum_{i=1}^n (X_i -\n",
    "\\overline{X}^2)\\\\\n",
    "$$\n",
    "\n",
    "Using aligned\n",
    "$$\n",
    "\\begin{aligned}\n",
    "\\overline{x} &= \\frac{1}{n}\\sum_{i=1}^n X_i\\\\\n",
    "\\text{Var}(X) \n",
    "&= \\mathbb{E} (X - \\mathbb{E}(X))^2\\\\\n",
    "&= \\frac{1}{n-1} \\sum_{i=1}^n (X_i -\n",
    "\\overline{X}^2)\\\\\n",
    "\\end{aligned}\n",
    "$$\n",
    "\n",
    "\n"
   ]
  },
  {
   "cell_type": "markdown",
   "id": "493984b6",
   "metadata": {},
   "source": [
    "**Boxed & Colored Equations**"
   ]
  },
  {
   "cell_type": "markdown",
   "id": "512b2db0",
   "metadata": {},
   "source": [
    "$$\n",
    "\\boxed{\n",
    "    \\color{magenta}{\n",
    "        \\frac{1}{n}\\sum_{i=1}^n X_i = \\overline{X}\n",
    "    }\n",
    "}\n",
    "$$\n",
    "\n",
    "This is inline math $\n",
    "% \\boxed{\n",
    "    \\color{blue}{\n",
    "        \\frac{1}{n}\\sum_{i=1}^n X_i = \\overline{X}\n",
    "    }\n",
    "% }\n",
    "$ and the sentence continues here."
   ]
  },
  {
   "cell_type": "markdown",
   "id": "365246bd",
   "metadata": {},
   "source": [
    "**Math Macros**"
   ]
  },
  {
   "cell_type": "markdown",
   "id": "d7d21cbe",
   "metadata": {},
   "source": [
    "$$\n",
    "\\renewcommand{\\newsum}[2]{\\sum_{i=#1}^{#2}}\n",
    "\\newsum{0}{m} a_i = \\sum_{i=0}^m a_i\n",
    "$$"
   ]
  },
  {
   "cell_type": "markdown",
   "id": "bc545c1a",
   "metadata": {},
   "source": [
    "$$\n",
    "\\renewcommand{\\Xn}{X_1, X_2, \\cdots, X_n}\n",
    "\\newcommand{\\Ho}{H_0}\n",
    "\\Xn \\text{ is sampled iid from a distribution } \\Ho\n",
    "$$"
   ]
  },
  {
   "cell_type": "markdown",
   "id": "20f70d3d",
   "metadata": {},
   "source": [
    "**2.1: Int, Float, Booleans, Strings**"
   ]
  },
  {
   "cell_type": "code",
   "execution_count": 3,
   "id": "4141cda7",
   "metadata": {},
   "outputs": [
    {
     "data": {
      "text/plain": [
       "int"
      ]
     },
     "execution_count": 3,
     "metadata": {},
     "output_type": "execute_result"
    }
   ],
   "source": [
    "type(19)"
   ]
  },
  {
   "cell_type": "code",
   "execution_count": 4,
   "id": "30784b87",
   "metadata": {},
   "outputs": [
    {
     "data": {
      "text/plain": [
       "float"
      ]
     },
     "execution_count": 4,
     "metadata": {},
     "output_type": "execute_result"
    }
   ],
   "source": [
    "type(19.0)"
   ]
  },
  {
   "cell_type": "code",
   "execution_count": 5,
   "id": "ef1c1687",
   "metadata": {},
   "outputs": [
    {
     "data": {
      "text/plain": [
       "(True, False)"
      ]
     },
     "execution_count": 5,
     "metadata": {},
     "output_type": "execute_result"
    }
   ],
   "source": [
    "True, False"
   ]
  },
  {
   "cell_type": "code",
   "execution_count": 6,
   "id": "1e95838f",
   "metadata": {},
   "outputs": [
    {
     "data": {
      "text/plain": [
       "'abs123'"
      ]
     },
     "execution_count": 6,
     "metadata": {},
     "output_type": "execute_result"
    }
   ],
   "source": [
    "\"abs\"+\"123\""
   ]
  },
  {
   "cell_type": "markdown",
   "id": "ae2a7c3b",
   "metadata": {},
   "source": [
    "**Arithmetric operations (+,-,/,%,//,*)**"
   ]
  },
  {
   "cell_type": "code",
   "execution_count": 9,
   "id": "dacd6744",
   "metadata": {},
   "outputs": [
    {
     "data": {
      "text/plain": [
       "3.25"
      ]
     },
     "execution_count": 9,
     "metadata": {},
     "output_type": "execute_result"
    }
   ],
   "source": [
    "13/4"
   ]
  },
  {
   "cell_type": "code",
   "execution_count": 11,
   "id": "72c2053c",
   "metadata": {},
   "outputs": [
    {
     "data": {
      "text/plain": [
       "1"
      ]
     },
     "execution_count": 11,
     "metadata": {},
     "output_type": "execute_result"
    }
   ],
   "source": [
    "# remainder\n",
    "13%4 "
   ]
  },
  {
   "cell_type": "code",
   "execution_count": 12,
   "id": "9081e255",
   "metadata": {},
   "outputs": [
    {
     "data": {
      "text/plain": [
       "3"
      ]
     },
     "execution_count": 12,
     "metadata": {},
     "output_type": "execute_result"
    }
   ],
   "source": [
    "# quotient\n",
    "13//4"
   ]
  },
  {
   "cell_type": "code",
   "execution_count": 10,
   "id": "a75c9ebb",
   "metadata": {},
   "outputs": [
    {
     "data": {
      "text/plain": [
       "28561"
      ]
     },
     "execution_count": 10,
     "metadata": {},
     "output_type": "execute_result"
    }
   ],
   "source": [
    "13**4"
   ]
  },
  {
   "cell_type": "markdown",
   "id": "0eb3d622",
   "metadata": {},
   "source": [
    "---"
   ]
  },
  {
   "cell_type": "markdown",
   "id": "b936cbba",
   "metadata": {},
   "source": [
    "**2.2: Arrays, Tuples, Dicts**"
   ]
  },
  {
   "cell_type": "code",
   "execution_count": 16,
   "id": "96aff772",
   "metadata": {},
   "outputs": [],
   "source": [
    "import math"
   ]
  },
  {
   "cell_type": "code",
   "execution_count": 13,
   "id": "2c9378de",
   "metadata": {},
   "outputs": [
    {
     "data": {
      "text/plain": [
       "[1, 2, 3, 4, 5, 6]"
      ]
     },
     "execution_count": 13,
     "metadata": {},
     "output_type": "execute_result"
    }
   ],
   "source": [
    "# array\n",
    "[1,2,3] + [4,5,6]"
   ]
  },
  {
   "cell_type": "code",
   "execution_count": 14,
   "id": "4686b184",
   "metadata": {},
   "outputs": [
    {
     "data": {
      "text/plain": [
       "(1, 2, 3)"
      ]
     },
     "execution_count": 14,
     "metadata": {},
     "output_type": "execute_result"
    }
   ],
   "source": [
    "# tuple\n",
    "(1,2,3)"
   ]
  },
  {
   "cell_type": "code",
   "execution_count": 18,
   "id": "711f8c06",
   "metadata": {},
   "outputs": [
    {
     "data": {
      "text/plain": [
       "dict_keys(['a', 'b', 'c'])"
      ]
     },
     "execution_count": 18,
     "metadata": {},
     "output_type": "execute_result"
    }
   ],
   "source": [
    "# dict\n",
    "{\"a\":1,\"b\":2,\"c\": math.pi}.keys()"
   ]
  },
  {
   "cell_type": "code",
   "execution_count": 19,
   "id": "7d046bfa",
   "metadata": {},
   "outputs": [
    {
     "name": "stdout",
     "output_type": "stream",
     "text": [
      "k=a,v=1\n",
      "k=b,v=2\n",
      "k=c,v=3.141592653589793\n"
     ]
    }
   ],
   "source": [
    "for k,v in {\"a\":1,\"b\":2,\"c\": math.pi}.items():\n",
    "    print(f'k={k},v={v}')"
   ]
  },
  {
   "cell_type": "code",
   "execution_count": 21,
   "id": "a150d6b9",
   "metadata": {},
   "outputs": [
    {
     "data": {
      "text/plain": [
       "False"
      ]
     },
     "execution_count": 21,
     "metadata": {},
     "output_type": "execute_result"
    }
   ],
   "source": [
    "# sets\n",
    "a={1,2,3,4,5}\n",
    "b={5,6,7}\n",
    "a.issubset(b)"
   ]
  },
  {
   "cell_type": "code",
   "execution_count": 22,
   "id": "5a7cb362",
   "metadata": {},
   "outputs": [
    {
     "data": {
      "text/plain": [
       "{1, 2, 3, 4, 5, 6, 7}"
      ]
     },
     "execution_count": 22,
     "metadata": {},
     "output_type": "execute_result"
    }
   ],
   "source": [
    "a.union(b)"
   ]
  },
  {
   "cell_type": "code",
   "execution_count": 23,
   "id": "6da64161",
   "metadata": {},
   "outputs": [
    {
     "data": {
      "text/plain": [
       "{1, 2, 3, 4}"
      ]
     },
     "execution_count": 23,
     "metadata": {},
     "output_type": "execute_result"
    }
   ],
   "source": [
    "a.difference(b)"
   ]
  },
  {
   "cell_type": "code",
   "execution_count": 24,
   "id": "1a7023c4",
   "metadata": {},
   "outputs": [
    {
     "data": {
      "text/plain": [
       "{1, 2, 3, 4, 6, 7}"
      ]
     },
     "execution_count": 24,
     "metadata": {},
     "output_type": "execute_result"
    }
   ],
   "source": [
    "a.symmetric_difference(b)"
   ]
  },
  {
   "cell_type": "markdown",
   "id": "732ca1d3",
   "metadata": {},
   "source": [
    "**2.3 Control Flow**"
   ]
  },
  {
   "cell_type": "code",
   "execution_count": 25,
   "id": "607cb4e9",
   "metadata": {},
   "outputs": [
    {
     "name": "stdout",
     "output_type": "stream",
     "text": [
      "1 is odd\n",
      "2 is a multiple of 4\n",
      "3 is odd\n",
      "4 is a multiple of 4\n",
      "5 is odd\n",
      "6 is a multiple of 4\n",
      "7 is odd\n",
      "8 is a multiple of 4\n",
      "9 is odd\n"
     ]
    }
   ],
   "source": [
    "# for\n",
    "for i in range(1,10):\n",
    "    if i%2 == 0:\n",
    "        print(f\"{i} is a multiple of 4\")\n",
    "    elif i % 2 == 0:\n",
    "        print(f\"{i} is even\")\n",
    "    else:\n",
    "        print(f\"{i} is odd\")"
   ]
  },
  {
   "cell_type": "code",
   "execution_count": 27,
   "id": "6009f926",
   "metadata": {},
   "outputs": [
    {
     "name": "stdout",
     "output_type": "stream",
     "text": [
      "0\n",
      "1\n",
      "2\n",
      "3\n",
      "4\n",
      "5\n",
      "6\n",
      "7\n",
      "8\n",
      "9\n"
     ]
    }
   ],
   "source": [
    "# while\n",
    "n = 0\n",
    "while n < 10:\n",
    "    print(n)\n",
    "    n = n+1"
   ]
  },
  {
   "cell_type": "markdown",
   "id": "8476dba7",
   "metadata": {},
   "source": [
    "**2.4 Functions**"
   ]
  },
  {
   "cell_type": "code",
   "execution_count": 30,
   "id": "ae288672",
   "metadata": {},
   "outputs": [],
   "source": [
    "def fibonacci(n):\n",
    "    return 0 if n==0 else 1 if n==1 else fibonacci(n-1) + fibonacci(n-2)"
   ]
  },
  {
   "cell_type": "code",
   "execution_count": 31,
   "id": "e1a89ac6",
   "metadata": {},
   "outputs": [
    {
     "data": {
      "text/plain": [
       "13"
      ]
     },
     "execution_count": 31,
     "metadata": {},
     "output_type": "execute_result"
    }
   ],
   "source": [
    "fibonacci(7)"
   ]
  },
  {
   "cell_type": "markdown",
   "id": "8d330cc7",
   "metadata": {},
   "source": [
    "**2.4.1 Anonymous functions**"
   ]
  },
  {
   "cell_type": "code",
   "execution_count": 32,
   "id": "61ecfd3a",
   "metadata": {},
   "outputs": [],
   "source": [
    "fib = lambda n: 0 if n==0 else 1 if n==1 else fib(n-1) + fib(n-2)"
   ]
  },
  {
   "cell_type": "markdown",
   "id": "c3d4b14f",
   "metadata": {},
   "source": [
    "---"
   ]
  },
  {
   "cell_type": "markdown",
   "id": "9e527d83",
   "metadata": {},
   "source": [
    "## Thu, Apr 4th"
   ]
  },
  {
   "cell_type": "markdown",
   "id": "ad2d56af",
   "metadata": {},
   "source": [
    "**Vectors**"
   ]
  },
  {
   "cell_type": "markdown",
   "id": "ca5dff86",
   "metadata": {},
   "source": [
    "A vector $v \\in \\R^n$ represents a point \n",
    "\n",
    "$$\n",
    "v = (v_1, v_2, \\ldots, v_n)^T\n",
    "$$\n",
    "\n",
    "in $n$-dimensional space where each $v_i$ is a number."
   ]
  },
  {
   "cell_type": "markdown",
   "id": "b4e81673",
   "metadata": {},
   "source": [
    "When you add two vectors:\n",
    "$$\n",
    "v = (v_1, v_2, \\ldots, v_n)^T\n",
    "$$\n",
    "$$\n",
    "w = (w_1, w_2, \\ldots, w_n)^T\n",
    "$$\n",
    "$$\n",
    "v+w = (v_1+w_1, v_2+w_2, \\ldots, v_n+w_n)^T\n",
    "$$"
   ]
  },
  {
   "cell_type": "code",
   "execution_count": 33,
   "id": "16f361b2",
   "metadata": {},
   "outputs": [],
   "source": [
    "import numpy as np"
   ]
  },
  {
   "cell_type": "code",
   "execution_count": 34,
   "id": "828d5813",
   "metadata": {},
   "outputs": [
    {
     "data": {
      "text/plain": [
       "array([2, 4, 6])"
      ]
     },
     "execution_count": 34,
     "metadata": {},
     "output_type": "execute_result"
    }
   ],
   "source": [
    "v = np.array([1,2,3])\n",
    "w = np.array([1,2,3])\n",
    "v+w"
   ]
  },
  {
   "cell_type": "markdown",
   "id": "3f48ae12",
   "metadata": {},
   "source": [
    "When you multiply a vector by a scalar:"
   ]
  },
  {
   "cell_type": "code",
   "execution_count": 37,
   "id": "2b7e7f5b",
   "metadata": {},
   "outputs": [
    {
     "data": {
      "text/plain": [
       "array([2, 4, 6])"
      ]
     },
     "execution_count": 37,
     "metadata": {},
     "output_type": "execute_result"
    }
   ],
   "source": [
    "2*v"
   ]
  },
  {
   "cell_type": "markdown",
   "id": "215464eb",
   "metadata": {},
   "source": [
    "You can \"multiply\" two vectors in two different ways:\n",
    "\n",
    "1. dot product\n",
    "2. cross product\n",
    "\n",
    "\n",
    "**dot product**\n",
    "\n",
    "The dot product of two vectors $u, v \\in \\R^n$ is the sum of the element-wise product\n",
    "\n",
    "$$\n",
    "u \\cdot v = \\sum_{i=1}^n u_i v_i\n",
    "$$\n",
    "\n",
    "The geometric interpretation of the dot product is given by:\n",
    "\n",
    "$$\n",
    "u \\cdot v = \\| u \\| \\| v \\| \\cos\\Big(\\angle(u, v)\\Big)\n",
    "$$\n",
    "\n",
    "**cross product**\n",
    "\n",
    "The cross product of two vectors $u, v \\in \\R^n$ the vector $w$ which is perpendicular to the linear space _spanned_ by $u$ and $v$, i.e.\n",
    "$$\n",
    "w \\perp \\text{span}\\{u, v\\}\n",
    "$$\n",
    "and whose magnitude is \n",
    "$$\n",
    "\\|w\\| = \\|u\\| \\|v\\| \\sin\\big(\\angle\\theta(u, v)\\big)\n",
    "$$"
   ]
  },
  {
   "cell_type": "code",
   "execution_count": 36,
   "id": "355ea1c6",
   "metadata": {},
   "outputs": [
    {
     "data": {
      "text/plain": [
       "array([1, 4, 9])"
      ]
     },
     "execution_count": 36,
     "metadata": {},
     "output_type": "execute_result"
    }
   ],
   "source": [
    "# dot product of v^T*w\n",
    "v*w"
   ]
  },
  {
   "cell_type": "markdown",
   "id": "58b01417",
   "metadata": {},
   "source": [
    "**Matrices**"
   ]
  },
  {
   "cell_type": "markdown",
   "id": "39642289",
   "metadata": {},
   "source": [
    "Intuitively, a matrix is a transformation.\n",
    "\n",
    "The transformation of a vector $v \\in \\R^n$ by a matrix $A \\in \\R^{m \\times n}$ is another vector $w= f_A(v) = Av \\in \\R^m$ whose components are given by\n",
    "\n",
    "\\begin{align*}\n",
    "    w_{1} &= \\sum_{j=1}^n A_{1j}v_{j} \\\\\n",
    "    w_{2} &= \\sum_{j=1}^n A_{2j}v_{j} \\\\\n",
    "    &\\vdots \\\\\n",
    "    w_{m} &= \\sum_{j=1}^n A_{mj}v_{j}\n",
    "\\end{align*}"
   ]
  },
  {
   "cell_type": "markdown",
   "id": "de42c990",
   "metadata": {},
   "source": [
    "3-dimensional matrix is a tensor, so as any higher dimensional matrices."
   ]
  },
  {
   "cell_type": "markdown",
   "id": "95f7007f",
   "metadata": {},
   "source": [
    "When a matrix acts on a vector, you get ..."
   ]
  },
  {
   "cell_type": "code",
   "execution_count": 38,
   "id": "27cef97f",
   "metadata": {},
   "outputs": [
    {
     "data": {
      "text/plain": [
       "array([-1.,  1.])"
      ]
     },
     "execution_count": 38,
     "metadata": {},
     "output_type": "execute_result"
    }
   ],
   "source": [
    "import numpy as np\n",
    "\n",
    "# Creating vectors and matrices\n",
    "vector = np.array([2,3])\n",
    "matrix = np.array([\n",
    "        [1.0, -1.0],\n",
    "        [-1.0, 1.0],\n",
    "    ])\n",
    "\n",
    "# Calculating the product\n",
    "product = matrix @ vector\n",
    "product"
   ]
  },
  {
   "cell_type": "markdown",
   "id": "b0659f26",
   "metadata": {},
   "source": [
    "**Basic linear algebra operations:**\n",
    "1. Norm: The norm of a vector is a measure of the vector's length or magnitude.\n",
    "2. Dot product: The dot product of two vectors $u, v \\in \\R^n$ is the sum of the element-wise product\n",
    "\n",
    "$$\n",
    "u \\cdot v = \\sum_{i=1}^n u_i v_i\n",
    "$$\n",
    "4. Matrix transpose: The transpose of a matrix is an operation that flips a matrix over its diagonal, switching the matrix's row and column indices.\n",
    "5. Matrix inverse: The inverse of a square matrix A is a matrix such that when it is multiplied by A, it results in the identity matrix. The matrix A must be non-singular (having a non-zero determinant) for the inverse to exist.\n"
   ]
  },
  {
   "cell_type": "markdown",
   "id": "334f2192",
   "metadata": {},
   "source": [
    "**Slightly more advanced linear algebra operations**"
   ]
  },
  {
   "cell_type": "markdown",
   "id": "3d968462",
   "metadata": {},
   "source": [
    "If we're given a system of equations, for example, \n",
    "\n",
    "$$\n",
    "\\begin{align*}\n",
    "2x + 3y &= 5 \\\\\n",
    "4x + 5y &= 6\n",
    "\\end{align*}\n",
    "$$\n",
    "\n",
    "We can represent it in the matrix-vector form as \n",
    "$$\n",
    "\\begin{bmatrix}\n",
    "2 & 3 \\\\\n",
    "4 & 5\\\\\n",
    "\\end{bmatrix} \n",
    "\\begin{bmatrix}\n",
    "x \\\\\n",
    "y \\\\\n",
    "\\end{bmatrix}  = \\begin{bmatrix}\n",
    "5 \\\\\n",
    "6 \\\\\n",
    "\\end{bmatrix}\n",
    "$$"
   ]
  },
  {
   "cell_type": "markdown",
   "id": "5be358a9",
   "metadata": {},
   "source": [
    "The solution for the unknown variables, $(x, y)$ is given by \n",
    "$$\n",
    "\\begin{bmatrix}\n",
    "-3.5 \\\\\n",
    "4 \\\\\n",
    "\\end{bmatrix} \n",
    "$$"
   ]
  },
  {
   "cell_type": "markdown",
   "id": "f07d95f8",
   "metadata": {},
   "source": [
    "In code, we can do this as follows: "
   ]
  },
  {
   "cell_type": "code",
   "execution_count": 39,
   "id": "17da9f42",
   "metadata": {},
   "outputs": [
    {
     "data": {
      "text/plain": [
       "array([-3.5,  4. ])"
      ]
     },
     "execution_count": 39,
     "metadata": {},
     "output_type": "execute_result"
    }
   ],
   "source": [
    "# Solving a system of linear equations\n",
    "A = np.array([[2, 3], [4, 5]])\n",
    "b = np.array([5, 6])\n",
    "solution = np.linalg.solve(A, b)\n",
    "\n",
    "solution"
   ]
  },
  {
   "cell_type": "markdown",
   "id": "f14cb893",
   "metadata": {},
   "source": [
    "---"
   ]
  },
  {
   "cell_type": "markdown",
   "id": "4c3c84c6",
   "metadata": {},
   "source": [
    "**Eigenvalues and eigenvectors**"
   ]
  },
  {
   "cell_type": "markdown",
   "id": "2f086932",
   "metadata": {},
   "source": [
    "Given an $n \\times n$ matrix $A$, the eigenvalue of $A$ is the scalar $\\lambda$ such that \n",
    "$$\n",
    "A\\mathbf{v} = \\lambda \\mathbf{v}\n",
    "$$"
   ]
  },
  {
   "cell_type": "markdown",
   "id": "c4662cd0",
   "metadata": {},
   "source": [
    "The eigenvector of $A$ is the vector $v$ such that for a given eigenvalue \n",
    "$\\lambda$ the equation $A\\mathbf{v} = \\lambda \\mathbf{v}$ holds true. "
   ]
  },
  {
   "cell_type": "markdown",
   "id": "48e779b5",
   "metadata": {},
   "source": [
    "Intuitively, the eigenvector of a matrix describes the direction that is not changed by the matrix transformation."
   ]
  },
  {
   "cell_type": "markdown",
   "id": "6f3eb584",
   "metadata": {},
   "source": [
    "In code, we can compute the eigenvalues and eigenvectors of a matrix as follows:"
   ]
  },
  {
   "cell_type": "code",
   "execution_count": 41,
   "id": "14936c12",
   "metadata": {},
   "outputs": [],
   "source": [
    "A = np.array([[2, 1], [1, 2]])\n",
    "\n",
    "eigenvalues, eigenvectors = np.linalg.eig(A)"
   ]
  },
  {
   "cell_type": "markdown",
   "id": "b11ff8bf",
   "metadata": {},
   "source": [
    "We can verify that the eigenvalues and eigenvectors are correct by running the following code and ensuring that the output matches the expected values:\n"
   ]
  },
  {
   "cell_type": "code",
   "execution_count": 42,
   "id": "226d378c",
   "metadata": {},
   "outputs": [
    {
     "data": {
      "text/plain": [
       "True"
      ]
     },
     "execution_count": 42,
     "metadata": {},
     "output_type": "execute_result"
    }
   ],
   "source": [
    "largest_index = np.argmax(eigenvalues)\n",
    "lambda1 = eigenvalues[largest_index]  # Largest eigenvalue\n",
    "v1 = eigenvectors[:, largest_index] # Corresponding eigenvector\n",
    "\n",
    "# Expected value of Av\n",
    "expected_value = lambda1 * v1\n",
    "\n",
    "# Actual value of Av\n",
    "Av = A @ v1\n",
    "\n",
    "# Check if the expected value and actual value are equal\n",
    "np.allclose(expected_value, Av)"
   ]
  },
  {
   "cell_type": "code",
   "execution_count": null,
   "id": "8382788b",
   "metadata": {},
   "outputs": [],
   "source": []
  }
 ],
 "metadata": {
  "kernelspec": {
   "display_name": "Python 3 (ipykernel)",
   "language": "python",
   "name": "python3"
  },
  "language_info": {
   "codemirror_mode": {
    "name": "ipython",
    "version": 3
   },
   "file_extension": ".py",
   "mimetype": "text/x-python",
   "name": "python",
   "nbconvert_exporter": "python",
   "pygments_lexer": "ipython3",
   "version": "3.8.18"
  }
 },
 "nbformat": 4,
 "nbformat_minor": 5
}
