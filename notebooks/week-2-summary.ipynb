{
 "cells": [
  {
   "cell_type": "markdown",
   "id": "d499b8cf",
   "metadata": {},
   "source": [
    "# Week 2 Summary\n",
    "> NAME: $\\color{red}{\\text{    Yuan Ji     }}$\n",
    "> \n",
    "> PID: $\\color{red}{\\text{    A16822092     }}$\n",
    ">\n",
    "> \n",
    "---"
   ]
  },
  {
   "cell_type": "markdown",
   "id": "1bce0cf8",
   "metadata": {},
   "source": [
    "I certify that the following write-up is my own work, and have abided by the UCSD Academic Integrity Guidelines.\n",
    "\n",
    "- [x] Yes\n",
    "- [ ] No"
   ]
  },
  {
   "cell_type": "markdown",
   "id": "6a1c41b1",
   "metadata": {},
   "source": [
    "% # %load tex-macros\n",
    "<div hidden>\n",
    "\\newcommand{\\require}[1]{}\n",
    "\n",
    "$\\require{begingroup}\\require{newcommand}$\n",
    "$\\long\\def \\forcecommand #1{\\providecommand{#1}{}\\renewcommand{#1}}$\n",
    "$\\forcecommand{\\defeq}{\\stackrel{\\small\\bullet}{=}}$\n",
    "$\\forcecommand{\\ra}{\\rangle}$\n",
    "$\\forcecommand{\\la}{\\langle}$\n",
    "$\\forcecommand{\\pr}{{\\mathbb P}}$\n",
    "$\\forcecommand{\\qr}{{\\mathbb Q}}$\n",
    "$\\forcecommand{\\xv}{{\\boldsymbol{x}}}$\n",
    "$\\forcecommand{\\av}{{\\boldsymbol{a}}}$\n",
    "$\\forcecommand{\\bv}{{\\boldsymbol{b}}}$\n",
    "$\\forcecommand{\\cv}{{\\boldsymbol{c}}}$\n",
    "$\\forcecommand{\\dv}{{\\boldsymbol{d}}}$\n",
    "$\\forcecommand{\\ev}{{\\boldsymbol{e}}}$\n",
    "$\\forcecommand{\\fv}{{\\boldsymbol{f}}}$\n",
    "$\\forcecommand{\\gv}{{\\boldsymbol{g}}}$\n",
    "$\\forcecommand{\\hv}{{\\boldsymbol{h}}}$\n",
    "$\\forcecommand{\\nv}{{\\boldsymbol{n}}}$\n",
    "$\\forcecommand{\\sv}{{\\boldsymbol{s}}}$\n",
    "$\\forcecommand{\\tv}{{\\boldsymbol{t}}}$\n",
    "$\\forcecommand{\\uv}{{\\boldsymbol{u}}}$\n",
    "$\\forcecommand{\\vv}{{\\boldsymbol{v}}}$\n",
    "$\\forcecommand{\\wv}{{\\boldsymbol{w}}}$\n",
    "$\\forcecommand{\\zerov}{{\\mathbf{0}}}$\n",
    "$\\forcecommand{\\onev}{{\\mathbf{0}}}$\n",
    "$\\forcecommand{\\phiv}{{\\boldsymbol{\\phi}}}$\n",
    "$\\forcecommand{\\cc}{{\\check{C}}}$\n",
    "$\\forcecommand{\\xv}{{\\boldsymbol{x}}}$\n",
    "$\\forcecommand{\\Xv}{{\\boldsymbol{X}\\!}}$\n",
    "$\\forcecommand{\\yv}{{\\boldsymbol{y}}}$\n",
    "$\\forcecommand{\\Yv}{{\\boldsymbol{Y}}}$\n",
    "$\\forcecommand{\\zv}{{\\boldsymbol{z}}}$\n",
    "$\\forcecommand{\\Zv}{{\\boldsymbol{Z}}}$\n",
    "$\\forcecommand{\\Iv}{{\\boldsymbol{I}}}$\n",
    "$\\forcecommand{\\Jv}{{\\boldsymbol{J}}}$\n",
    "$\\forcecommand{\\Cv}{{\\boldsymbol{C}}}$\n",
    "$\\forcecommand{\\Ev}{{\\boldsymbol{E}}}$\n",
    "$\\forcecommand{\\Fv}{{\\boldsymbol{F}}}$\n",
    "$\\forcecommand{\\Gv}{{\\boldsymbol{G}}}$\n",
    "$\\forcecommand{\\Hv}{{\\boldsymbol{H}}}$\n",
    "$\\forcecommand{\\alphav}{{\\boldsymbol{\\alpha}}}$\n",
    "$\\forcecommand{\\epsilonv}{{\\boldsymbol{\\epsilon}}}$\n",
    "$\\forcecommand{\\betav}{{\\boldsymbol{\\beta}}}$\n",
    "$\\forcecommand{\\deltav}{{\\boldsymbol{\\delta}}}$\n",
    "$\\forcecommand{\\gammav}{{\\boldsymbol{\\gamma}}}$\n",
    "$\\forcecommand{\\etav}{{\\boldsymbol{\\eta}}}$\n",
    "$\\forcecommand{\\piv}{{\\boldsymbol{\\pi}}}$\n",
    "$\\forcecommand{\\thetav}{{\\boldsymbol{\\theta}}}$\n",
    "$\\forcecommand{\\tauv}{{\\boldsymbol{\\tau}}}$\n",
    "$\\forcecommand{\\muv}{{\\boldsymbol{\\mu}}}$\n",
    "$%$\n",
    "$\\forcecommand{\\sd}{\\text{SD}}$\n",
    "$\\forcecommand{\\se}{\\text{SE}}$\n",
    "$\\forcecommand{\\med}{\\text{median}}$\n",
    "$\\forcecommand{\\median}{\\text{median}}$\n",
    "$%$\n",
    "$\\forcecommand{\\supp}{\\text{supp}}$\n",
    "$\\forcecommand{\\E}{\\mathbb{E}}$\n",
    "$\\forcecommand{\\var}{\\text{Var}}$\n",
    "$\\forcecommand{\\Ber}{{\\text{Ber}}}$\n",
    "$\\forcecommand{\\Bin}{{\\text{Bin}}}$\n",
    "$\\forcecommand{\\Geo}{{\\text{Geo}}}$\n",
    "$\\forcecommand{\\Unif}{{\\text{Unif}}}$\n",
    "$\\forcecommand{\\Poi}{{\\text{Poi}}}$\n",
    "$\\forcecommand{\\Exp}{{\\text{Exp}}}$\n",
    "$\\forcecommand{\\Chisq}{{\\chi^2}}$\n",
    "$\\forcecommand{\\N}{\\mathbb{N}}$\n",
    "$\\forcecommand{\\iid}{{\\stackrel{iid}{\\sim}}}$\n",
    "$\\forcecommand{\\px}{p_{X}}$\n",
    "$\\forcecommand{\\fx}{f_{X}}$\n",
    "$\\forcecommand{\\Fx}{F_{X}}$\n",
    "$\\forcecommand{\\py}{p_{Y}}$\n",
    "$\\forcecommand{\\pxy}{p_{X,Y}}$\n",
    "$\\forcecommand{\\po}{{p_0}}$\n",
    "$\\forcecommand{\\pa}{{p_a}}$\n",
    "$\\forcecommand{\\Xbar}{\\overline{X}}$\n",
    "$\\forcecommand{\\Ybar}{\\overline{Y}}$\n",
    "$\\forcecommand{\\Zbar}{\\overline{Z}}$\n",
    "$\\forcecommand{\\nXbar}{n \\cdot \\overline{X}}$\n",
    "$\\forcecommand{\\nYbar}{n \\cdot \\overline{Y}}$\n",
    "$\\forcecommand{\\nZbar}{n \\cdot \\overline{Z}}$\n",
    "$\\forcecommand{\\Xn}{X_1, X_2, \\dots, X_n}$\n",
    "$\\forcecommand{\\Xm}{{X_1, X_2, \\dots, X_m}}$\n",
    "$\\forcecommand{\\Yn}{Y_1, Y_2, \\dots, Y_n}$\n",
    "$\\forcecommand{\\Ym}{{Y_1, Y_2, \\dots, Y_m}}$\n",
    "$\\forcecommand{\\sumXn}{X_1 + X_2 + \\dots + X_n}$\n",
    "$\\forcecommand{\\sumym}{Y_1 + Y_2 + \\dots + Y_m}$\n",
    "$\\forcecommand{\\la}{\\ell_\\alpha}$\n",
    "$\\forcecommand{\\ua}{u_\\alpha}$\n",
    "$\\forcecommand{\\at}{{\\alpha/2}}$\n",
    "$\\forcecommand{\\mux}{\\mu_{X}}$\n",
    "$\\forcecommand{\\muy}{\\mu_{Y}}$\n",
    "$\\forcecommand{\\sx}{\\sigma_{X}}$\n",
    "$\\forcecommand{\\sy}{\\sigma_{Y}}$\n",
    "$\\forcecommand{\\ci}{\\text{CI}}$\n",
    "$\\forcecommand{\\pvalue}{$p$-value}$\n",
    "$\\forcecommand{\\Ho}{H_{0}}$\n",
    "$\\forcecommand{\\Ha}{H_{a}}$\n",
    "\n",
    "\\vskip-\\parskip\n",
    "\\vskip-\\baselineskip\n",
    "</div>"
   ]
  },
  {
   "cell_type": "code",
   "execution_count": 10,
   "id": "bb0120db",
   "metadata": {},
   "outputs": [],
   "source": [
    "import numpy as np\n",
    "import scipy\n",
    "from scipy import stats as stats"
   ]
  },
  {
   "cell_type": "markdown",
   "id": "fbfec7ec",
   "metadata": {},
   "source": [
    "---"
   ]
  },
  {
   "cell_type": "markdown",
   "id": "15c6dc53",
   "metadata": {},
   "source": [
    "## Key Takeaways from Week 1"
   ]
  },
  {
   "cell_type": "markdown",
   "id": "cc992f31",
   "metadata": {},
   "source": [
    "\n",
    "#### Tuesday: \n",
    "\n",
    "We reviewed the concepts of probability and some statistical fundamentals, including random variables, cdf, pmf, pdf, and $\\E(X)$ and $\\var(X)$, as well as some common statistical distributions."
   ]
  },
  {
   "cell_type": "markdown",
   "id": "6d69de7b",
   "metadata": {},
   "source": [
    "#### Thursday\n",
    "\n",
    "We continued the discussion of statistical distributions, and then reviewed the Confidence Intervals & Hypothesis Testing, including the one sample proportion and two sample proportions, the CI for difference of two proportions. Also, we went over the concepts of quantiles and empirical CDFs in the beginning of the lecture."
   ]
  },
  {
   "cell_type": "markdown",
   "id": "aaadbca8",
   "metadata": {},
   "source": [
    "---"
   ]
  },
  {
   "cell_type": "markdown",
   "id": "c2d78965",
   "metadata": {},
   "source": [
    "## Tue, Apr 9th"
   ]
  },
  {
   "cell_type": "markdown",
   "id": "0346e6ec",
   "metadata": {},
   "source": [
    "#### Probability Review"
   ]
  },
  {
   "cell_type": "markdown",
   "id": "59c8dd4f",
   "metadata": {},
   "source": [
    "Given a sample space $\\mathcal{S}$ and an event $A$, there are three qualiatively different ways to define the probability $\\pr(A)$:"
   ]
  },
  {
   "cell_type": "markdown",
   "id": "03e3f4a3",
   "metadata": {},
   "source": [
    "**Empiricial Probability**: based on repeatedly observing the outcome of an event\n",
    "\n",
    "\n",
    "$$\n",
    "\\pr(A) = \\frac{\\text{\\# of times A occurs}}{\\text{\\# of trials}}\n",
    "$$\n",
    "\n",
    "An example of empirical probability is the following scenario:\n",
    "\n",
    "> A student takes 10 multiple-choice quizzes, correctly answering the first question 6 times. The empirical probability that the student correctly answers the first question on the next quiz is $\\frac{6}{10}$ = 0.6 or 60%, based on their past performance."
   ]
  },
  {
   "cell_type": "markdown",
   "id": "a29edae6",
   "metadata": {},
   "source": [
    "**Theoretical Probability**: based on the assumption of a model\n",
    "\n",
    "\n",
    "$$\n",
    "\\pr(A) = \\frac{\\text{\\# of ways A can occur}}{\\text{\\# of possible outcomes}}\n",
    "$$\n",
    "\n",
    "An example of theoretical probability is the following scenario:\n",
    "\n",
    "> For a fair six-sided die, each face of the die is equally likely to land facing up when rolled. The theoretical probability of rolling a 1 is $\\frac{6}{10}$."
   ]
  },
  {
   "cell_type": "markdown",
   "id": "0dd73cb3",
   "metadata": {},
   "source": [
    "**Subjective Probability**: based on person's opinion\n",
    "\n",
    "\n",
    "$$\n",
    "\\pr(A) = \\text{degree of belief that A will occur}\n",
    "$$"
   ]
  },
  {
   "cell_type": "markdown",
   "id": "8839fbb4",
   "metadata": {},
   "source": [
    "#### Random Variables"
   ]
  },
  {
   "cell_type": "markdown",
   "id": "2d77ba66",
   "metadata": {},
   "source": [
    "Intuitively, a random variable $X$ is a way to quantify the uncertainty of an outcome in a situation where different results are possible and, \n",
    "\n",
    "the support of a random variable, denoted $\\text{supp}(X)$, is the set of all possible values it can take.\n"
   ]
  },
  {
   "cell_type": "markdown",
   "id": "2ee5e428",
   "metadata": {},
   "source": [
    "A random variable $X$ can have different types of supports. \n",
    "\n",
    "1. **categorical**: The support has different categories, but there's no way of comparing \"≤\" or \"≥\" between two categories\n",
    "    - e.g., $\\supp(X) = \\{ \\text{red}, \\text{green}, \\text{blue} \\}$\n",
    "    - e.g., $\\supp(X) = \\{ \\text{car}, \\text{bus}, \\text{boat} \\}$\n",
    "\n",
    "2. **Ordinal**: The support has different categories, but we can compare \"≤\" or \"≥\" between two categories but **cannot quantify the difference** between them\n",
    "    - e.g., $\\supp(X) = \\{ \\text{low}, \\text{med}, \\text{hi} \\}$\n",
    "    - e.g., $\\supp(X) = \\{ \\text{cold}, \\text{warm}, \\text{hot} \\}$\n",
    "    - e.g., $\\supp(X) = \\{ \\text{uncomfortable}, \\text{meh}, \\text{comfortable} \\}$\n",
    "3. **Discrete**: The support is a discrete collection of objects where we can compare \"≤\" or \"≥\" between two categories **and** quantify the difference between them\n",
    "    - e.g., $\\supp(X) = \\{ 0, 1 \\}$\n",
    "    - e.g., $\\supp(X) = \\{ 0, \\frac{1}{10}, \\frac{2}{10}, \\cdots, \\frac{9}{10}, 1 \\}$\n",
    "    - e.g., $\\supp(X) = \\{ a, a+1, \\cdots, b-1, b \\}$ for $a < b$\n",
    "    - e.g., $\\supp(X) = \\{ 0, 1, 2, \\cdots \\}$\n",
    "    \n",
    "    Notably, a random variable is discrete if there is a finite precision to the measurement of the outcome\n",
    "4. **Continuous**: The support is a continuum, \n",
    "    - e.g., $\\supp(X) = [a, b]$ for $a < b$ is an interval\n",
    "    - e.g., $\\supp(X) = \\R$ is the whole real line\n",
    "    - e.g., $\\supp(X) = \\R^d$ for any $d = 1, 2, 3, \\dots$"
   ]
  },
  {
   "cell_type": "markdown",
   "id": "1f3410ae",
   "metadata": {},
   "source": [
    "#### Properties of Random Variables"
   ]
  },
  {
   "cell_type": "markdown",
   "id": "1ffca2a9",
   "metadata": {},
   "source": [
    "**Cumulative Distribution Function**\n",
    "\n",
    "Intuitively, the cumulative distribution function (CDF) of a random variable $X$ measures the probability that $X$ will take a value less than or equal to a specific number.\n",
    "\n",
    "For a random variable $X$ with PDF $\\fx(x)$ the CDF $\\Fx(x)$ is given by\n",
    "$$\n",
    "\\Fx(x)  = \\int_{-\\infty}^x f_X(y) dy \n",
    "$$\n",
    "(formula for CDF of continuous RV)\n"
   ]
  },
  {
   "cell_type": "markdown",
   "id": "7e4977f0",
   "metadata": {},
   "source": [
    "**Expected value**\n",
    "\n",
    "For a random variable $X$ with PMF $\\px$ or with PDF $\\fx$, the expected value of $X$ is\n",
    "\n",
    "$$\n",
    "\\E(X) = \\sum_{x \\in \\text{supp}(X)} x \\cdot p_X(x) \\quad \\text{if } X \\text{ is discrete}\n",
    "$$\n",
    "\n",
    "(formula for PMF)\n",
    "$$\n",
    "\\E(X) = \\int_{-\\infty}^\\infty x \\cdot f_X(x) \\, dx \\quad \\text{if } X \\text{ is continuous}\n",
    "$$\n",
    "(formula for PDF)"
   ]
  },
  {
   "cell_type": "markdown",
   "id": "c7906e0c",
   "metadata": {},
   "source": [
    "**Variance**\n",
    "\n",
    "For a random variable $X$ with expected value $\\E(X)$ and second moment $\\E(X^2)$, the variance of $X$ is\n",
    "\n",
    "\n",
    "$$\n",
    "\\begin{aligned}\n",
    "\\var(X) &= \\mathbb{E}\\Big( \\{\\; X - \\mathbb{E}(X) \\;\\}^2  \\Big) = \\E(X^2) - \\E(X)^2 \\\\\n",
    "\\end{aligned}\n",
    "$$\n",
    "\n",
    "(formula for variance)"
   ]
  },
  {
   "cell_type": "markdown",
   "id": "bcaa3d33",
   "metadata": {},
   "source": [
    "#### Examples of Probability Distributions"
   ]
  },
  {
   "cell_type": "markdown",
   "id": "a59ff4d8",
   "metadata": {},
   "source": [
    "---"
   ]
  },
  {
   "cell_type": "markdown",
   "id": "56c11926",
   "metadata": {},
   "source": [
    "§1. Bernoulli distribution\n",
    "\n",
    "A random variable $X \\sim \\Ber(p)$ follows a Bernoulli distribution with parameter $p$.\n",
    "\n",
    "* The support is\n",
    "$$\n",
    "\\supp(X) = \\{0, 1\\}\n",
    "$$\n",
    "* The PMF is \n",
    "$$\n",
    "\\px(x) = \\begin{cases}\n",
    "p & \\text{if } x = 1 \\\\\n",
    "1-p & \\text{if } x = 0 \\\\\n",
    "\\end{cases}\n",
    "$$\n",
    "* The expected value is\n",
    "$$\n",
    "\\begin{aligned}\n",
    "\\mathbb{E}(X) \n",
    "&= \\sum_{x \\in \\text{supp}(X)} x \\cdot p_X(x) \\\\\n",
    "&= 0 \\cdot (1-p) + 1 \\cdot p \\\\\n",
    "&= p\n",
    "\\end{aligned}\n",
    "$$\n",
    "* The variance is\n",
    "$$\n",
    "\\begin{aligned}\n",
    "\\text{Var}(X) \n",
    "&= \\mathbb{E}(X^2) - \\mathbb{E}(X)^2 \\\\\n",
    "&= p - p^2 \\\\\n",
    "&= p(1-p)\n",
    "\\end{aligned}\n",
    "$$\n",
    "\n",
    "In python, we can generate $10$ random samples from a Bernoulli distribution as follows:"
   ]
  },
  {
   "cell_type": "code",
   "execution_count": 11,
   "id": "895fdba7",
   "metadata": {},
   "outputs": [
    {
     "data": {
      "text/plain": [
       "array([0, 1, 1, 0, 0, 1, 1, 1, 1, 1], dtype=int64)"
      ]
     },
     "execution_count": 11,
     "metadata": {},
     "output_type": "execute_result"
    }
   ],
   "source": [
    "# Define the probability of success\n",
    "p = 0.5\n",
    "\n",
    "# Generate 10 random samples from a Bernoulli distribution\n",
    "X = stats.bernoulli(p)\n",
    "X.rvs(10)"
   ]
  },
  {
   "cell_type": "markdown",
   "id": "07fbff42",
   "metadata": {},
   "source": [
    "---"
   ]
  },
  {
   "cell_type": "markdown",
   "id": "554eb8c1",
   "metadata": {},
   "source": [
    "§2. Discrete Uniform distribution\n",
    "\n",
    "A random variable $X \\sim \\Unif \\{a, b\\}$ follows a _discrete uniform_ distribution with parameter(s) $a,b$.\n",
    "\n",
    "* The support is\n",
    "$$\n",
    "\\supp(X) = \\{a, a+1, a+2, \\dots, b\\}\n",
    "\n",
    "$$\n",
    "* The PMF is \n",
    "$$\n",
    "\\px(x) = \\begin{cases}\n",
    "\\displaystyle\\frac{1}{b-a+1} & \\text{if } x \\in \\text{supp}(X) \\\\ \\\\\n",
    "0 & \\text{otherwise}\n",
    "\\end{cases}\n",
    "$$\n",
    "* The expected value is\n",
    "$$\n",
    "\\mathbb E(X) = \\frac{a+b}{2}\n",
    "$$\n",
    "* The variance is\n",
    "$$\n",
    "\\var(X) = \\frac{(b-a+1)^2 - 1}{12}\n",
    "$$\n",
    "\n",
    "We can generate $10$ random samples from a discrete uniform distribution as follows:"
   ]
  },
  {
   "cell_type": "code",
   "execution_count": 12,
   "id": "9f1f7267",
   "metadata": {},
   "outputs": [
    {
     "data": {
      "text/plain": [
       "array([9, 2, 1, 1, 4, 3, 5, 6, 9, 9])"
      ]
     },
     "execution_count": 12,
     "metadata": {},
     "output_type": "execute_result"
    }
   ],
   "source": [
    "# Define the lower and upper bounds of the distribution, inclusive\n",
    "a = 1\n",
    "b = 10\n",
    "\n",
    "# Generate 10 random samples from a discrete uniform distribution\n",
    "X = np.random.randint(a, b + 1, size=10)\n",
    "\n",
    "X"
   ]
  },
  {
   "cell_type": "markdown",
   "id": "c0000bd7",
   "metadata": {},
   "source": [
    "---"
   ]
  },
  {
   "cell_type": "markdown",
   "id": "b7c5a779",
   "metadata": {},
   "source": [
    "§3. Poisson Distribution\n",
    "\n",
    "A random variable $X \\sim \\Poi(\\lambda)$ follows a _Poisson_ distribution with parameter(s) $\\lambda$.\n",
    "\n",
    "* The support is\n",
    "$$\n",
    "\\supp(X) = \\{0, 1, 2, \\ldots\\}\n",
    "$$\n",
    "* The PMF is \n",
    "$$\n",
    "\\px(x) = \\begin{cases}\n",
    "\\displaystyle\\frac{\\lambda^x}{x!} e^{-\\lambda} & \\text{if } x = 0, 1, 2, \\dots \\\\\n",
    "0 & \\text{otherwise}\n",
    "\\end{cases}\n",
    "$$\n",
    "* The expected value is\n",
    "$$\n",
    "\\mathbb E(X) = \\lambda\n",
    "$$\n",
    "* The variance is\n",
    "$$\n",
    "\\var(X) = \\lambda \n",
    "$$\n",
    "\n",
    "We can generate $10$ random samples from a Poisson distribution as follows:"
   ]
  },
  {
   "cell_type": "code",
   "execution_count": 13,
   "id": "cc913380",
   "metadata": {},
   "outputs": [
    {
     "data": {
      "text/plain": [
       "array([1, 2, 0, 1, 1, 0, 2, 0, 1, 0], dtype=int64)"
      ]
     },
     "execution_count": 13,
     "metadata": {},
     "output_type": "execute_result"
    }
   ],
   "source": [
    "# Define the rate parameter lambda\n",
    "lambda_param = 1\n",
    "\n",
    "# Generate 10 random samples from a Poisson distribution\n",
    "X = stats.poisson(lambda_param)\n",
    "X.rvs(10)"
   ]
  },
  {
   "cell_type": "markdown",
   "id": "2836e9e3",
   "metadata": {},
   "source": [
    "---"
   ]
  },
  {
   "cell_type": "markdown",
   "id": "a2d78f9b",
   "metadata": {},
   "source": [
    "§4. Exponential distribution\n",
    "\n",
    "A random variable $X \\sim \\Exp(\\lambda)$ follows an _Exponential_ distribution with parameter(s) $\\lambda$.\n",
    "\n",
    "* The support is\n",
    "$$\n",
    "\\supp(X) = [0, \\infty)\n",
    "$$\n",
    "* The PDF is \n",
    "$$\n",
    "\\fx(x) = \\begin{cases}\n",
    "\\lambda e^{-\\lambda x} & \\text{if } x \\geq 0 \\\\\n",
    "0 & \\text{otherwise}\n",
    "\\end{cases}\n",
    "$$\n",
    "* The expected value is\n",
    "$$\n",
    "\\mathbb E(X) = \\frac{1}{\\lambda}\n",
    "$$\n",
    "* The variance is\n",
    "$$\n",
    "\\var(X) = \\frac{1}{\\lambda^2}\n",
    "$$\n",
    "\n",
    "We can generate $10$ random samples from an Exponential distribution as follows:"
   ]
  },
  {
   "cell_type": "code",
   "execution_count": 14,
   "id": "20cff9be",
   "metadata": {},
   "outputs": [
    {
     "data": {
      "text/plain": [
       "array([0.68071508, 2.43763233, 0.50473311, 1.47122808, 1.75660599,\n",
       "       0.76289065, 0.67613727, 1.60912259, 1.60607906, 1.3077734 ])"
      ]
     },
     "execution_count": 14,
     "metadata": {},
     "output_type": "execute_result"
    }
   ],
   "source": [
    "# Define the rate parameter lambda\n",
    "lambda_param = 2 \n",
    "\n",
    "# Generate 10 random samples from an Exponential distribution\n",
    "X = stats.expon(1/lambda_param)\n",
    "X.rvs(10)"
   ]
  },
  {
   "cell_type": "markdown",
   "id": "587326c8",
   "metadata": {},
   "source": [
    "---"
   ]
  },
  {
   "cell_type": "markdown",
   "id": "ea98f45b",
   "metadata": {},
   "source": [
    "§5. Normal Distribution\n",
    "\n",
    "A random variable $X \\sim N(\\mu, \\sigma^2)$ follows a Normal distribution with parameter(s) $\\mu, \\sigma^2$.\n",
    "\n",
    "* The support is\n",
    "$$\n",
    "\\supp(X) = (-\\infty, \\infty)\n",
    "$$\n",
    "* The PDF is \n",
    "$$\n",
    "\\fx(x) = \\frac{1}{\\sqrt{2 \\pi \\sigma^2}} \\exp \\left( - \\frac{(x - \\mu)^2}{2 \\sigma^2} \\right)\n",
    "$$\n",
    "* The expected value is\n",
    "$$\n",
    "\\begin{aligned}\n",
    "\\mathbb{E}(X) \n",
    "&= \\int_{-\\infty}^\\infty x \\cdot f_X(x) dx \\\\\n",
    "&= \\int_{-\\infty}^\\infty x \\cdot \\frac{1}{\\sqrt{2 \\pi \\sigma^2}} \\exp \\left( - \\frac{(x - \\mu)^2}{2 \\sigma^2} \\right) dx \\\\\n",
    "&= \\mu\n",
    "\\end{aligned}\n",
    "$$\n",
    "* The variance is\n",
    "$$\n",
    "\\begin{aligned}\n",
    "\\var(X) \n",
    "&= \\E(X^2) - \\E(X)^2 \\\\\n",
    "&= (\\mu^2 +\\sigma^2) -  \\mu^2 \\\\\n",
    "&= \\sigma^2\n",
    "\\end{aligned}\n",
    "$$\n",
    "\n",
    "We can generate $10$ random samples from a Normal distribution as follows:"
   ]
  },
  {
   "cell_type": "code",
   "execution_count": 15,
   "id": "6e6ec1d6",
   "metadata": {},
   "outputs": [
    {
     "data": {
      "text/plain": [
       "array([-0.48802655,  0.23372618,  0.72861175, -0.22868435,  0.65923766,\n",
       "        1.61051246, -0.42020337,  0.98094643,  0.03758564, -2.55113964])"
      ]
     },
     "execution_count": 15,
     "metadata": {},
     "output_type": "execute_result"
    }
   ],
   "source": [
    "# Define the mean and variance\n",
    "mu = 0      \n",
    "sigma = 1  \n",
    "\n",
    "# Generate 10 random samples from a Normal distribution\n",
    "X = stats.norm(mu, sigma)\n",
    "X.rvs(10)"
   ]
  },
  {
   "cell_type": "markdown",
   "id": "09f36ac9",
   "metadata": {},
   "source": [
    "---"
   ]
  },
  {
   "cell_type": "markdown",
   "id": "a21c7bfb",
   "metadata": {},
   "source": [
    "§6. Chi-squared Distribution\n",
    "\n",
    "A random variable $X \\sim \\chi^2(k)$ follows a Chi-squared distribution with parameter(s) $k$.\n",
    "\n",
    "* The support is\n",
    "$$\n",
    "\\supp(X) = (0, \\infty)\n",
    "$$\n",
    "* $X \\sim \\chi^2(k)$ is obtained using $k$ iid copies of a standard normal random variable $Z_1, Z_2, \\dots, Z_k \\sim N(0, 1)$ as follows:\n",
    "$$\n",
    "X = \\sum_{i=1}^k Z_i^2 \\quad \\text{where} \\quad Z_1, Z_2, \\dots, Z_k \\sim N(0,1)\n",
    "$$\n",
    "* The expected value is\n",
    "$$\n",
    "\\mathbb E(X) = k\n",
    "$$\n",
    "* The variance is\n",
    "$$\n",
    "\\var(X) = 2k\n",
    "$$\n",
    "\n",
    "We can generate $10$ random samples from a Chi-squared distribution as follows:"
   ]
  },
  {
   "cell_type": "code",
   "execution_count": 16,
   "id": "19bed59c",
   "metadata": {},
   "outputs": [
    {
     "data": {
      "text/plain": [
       "array([0.71129535, 1.85052618, 1.80899675, 5.49762089, 1.888664  ,\n",
       "       0.89478173, 8.01857061, 3.85134259, 0.58744002, 5.50658421])"
      ]
     },
     "execution_count": 16,
     "metadata": {},
     "output_type": "execute_result"
    }
   ],
   "source": [
    "# Define the degrees of freedom\n",
    "df = 4  \n",
    "\n",
    "# Generate 10 random samples from a Chi-squared distribution\n",
    "X = stats.chi2(df)\n",
    "X.rvs(10)"
   ]
  },
  {
   "cell_type": "markdown",
   "id": "2f337b21",
   "metadata": {},
   "source": [
    "---"
   ]
  },
  {
   "cell_type": "markdown",
   "id": "3eeecfb7",
   "metadata": {},
   "source": [
    "§7. Student's t Distribution\n",
    "\n",
    "A random variable $X \\sim t(k)$ follows a Student's $t$ distribution with parameter(s) $k$. \n",
    "\n",
    "* The support is\n",
    "$$\n",
    "\\supp(X) =  (-\\infty, \\infty)\n",
    "$$\n",
    "\n",
    "* Given $Z \\sim N(0,1)$ and $Y \\sim \\chi^2(k)$ with $Z \\perp Y$, a Student's $t$ random variable $X$ is obtained as follows:\n",
    "$$\n",
    "X = \\frac{Z}{\\sqrt{Y/k}}\n",
    "$$\n",
    "\n",
    "\n",
    "We can generate $10$ random samples from a Student's $t$ distribution as follows:"
   ]
  },
  {
   "cell_type": "code",
   "execution_count": 17,
   "id": "d8d7ef05",
   "metadata": {},
   "outputs": [
    {
     "data": {
      "text/plain": [
       "array([-1.76664971, -0.47390123, -0.28314103, -0.36211341, -0.8748614 ,\n",
       "       -0.18752773,  0.59074411,  0.40418931,  2.40940184, -1.72207336])"
      ]
     },
     "execution_count": 17,
     "metadata": {},
     "output_type": "execute_result"
    }
   ],
   "source": [
    "from scipy.stats import t\n",
    "\n",
    "# Define the degrees of freedom\n",
    "k = 10  \n",
    "\n",
    "# Generate 10 random samples from a Student's t distribution\n",
    "X = stats.t(k)\n",
    "X.rvs(10)"
   ]
  },
  {
   "cell_type": "markdown",
   "id": "c422fffe",
   "metadata": {},
   "source": [
    "---"
   ]
  },
  {
   "cell_type": "markdown",
   "id": "c19066de",
   "metadata": {},
   "source": [
    "§8. $F$ Distribution\n",
    "\n",
    "A random variable $X \\sim F(k_1, k_2)$ follows an $F$ distribution with parameter(s) $k_1, k_2$.\n",
    "\n",
    "* The support is\n",
    "$$\n",
    "\\supp(X) = (0, \\infty)\n",
    "$$\n",
    "\n",
    "* Given $Y \\sim \\chi^2(k_1)$ and $Z \\sim \\chi^2(k_2)$ with $Y \\perp Z$, an $F$ random variable $X$ is obtained as follows:\n",
    "$$\n",
    "X = \\frac{Y/k_1}{Z/k_2} \n",
    "$$\n",
    "\n",
    "We can generate $10$ random samples from a Normal distribution as follows:"
   ]
  },
  {
   "cell_type": "code",
   "execution_count": 18,
   "id": "ad952832",
   "metadata": {},
   "outputs": [
    {
     "data": {
      "text/plain": [
       "array([0.41841511, 0.32275048, 0.19555319, 1.48789167, 1.598553  ,\n",
       "       1.04146675, 1.74992224, 0.15485536, 0.33640557, 0.41629034])"
      ]
     },
     "execution_count": 18,
     "metadata": {},
     "output_type": "execute_result"
    }
   ],
   "source": [
    "from scipy.stats import f\n",
    "\n",
    "# Define the degrees of freedom for the numerator and the denominator\n",
    "k1 = 5  \n",
    "k2 = 10  \n",
    "\n",
    "# Generate 10 random samples from an F distribution\n",
    "X = stats.f(k1,k2)\n",
    "X.rvs(10)"
   ]
  },
  {
   "cell_type": "markdown",
   "id": "65b3274f",
   "metadata": {},
   "source": [
    "---"
   ]
  },
  {
   "cell_type": "markdown",
   "id": "5a816956",
   "metadata": {},
   "source": [
    "Suppose $X_1, X_2, \\dots, X_n$ are $n$ iid samples from a distribution with mean $\\E(X) = M$ and variance $\\var(X) = V$.\n",
    "\n",
    "Let $$\\Xbar = \\frac{1}{n} \\sum_{i=1}^n X_i$$ be the sample mean and $$S^2 = \\frac{1}{n-1} \\sum_{i=1}^n (X_i - \\Xbar)^2$$ be the sample variance.\n",
    "\n",
    "**Law of large Numbers**\n",
    "\n",
    "In english, the law of large numbers says that as the size of a sample drawn from a population increases, the sample mean will get closer to the population mean. \n",
    "\n",
    "$$\n",
    "\\frac{1}{n} \\sum_{i=1}^n X_i \\rightarrow \\mathbb{E}(X) \\quad \\text{as } n \\rightarrow \\infty\n",
    "$$\n",
    "\n",
    "\n",
    "**Central Limit Theorem**\n",
    "\n",
    "In english, the central limit theorem says that when you have a large sample (or many repeated samples) from a population, the distribution of the sample means will approach a normal distribution, regardless of the shape of the original distribution. \n",
    "\n",
    "$$\n",
    "\\frac{\\overline{X} - \\mathbb{E}(X)}{\\sqrt{\\text{Var}(X)}} \\Longrightarrow N(0,1) \\quad \\text{as } n \\rightarrow \\infty\n",
    "$$\n",
    "\n"
   ]
  },
  {
   "cell_type": "markdown",
   "id": "f15473cf",
   "metadata": {},
   "source": [
    "---\n",
    "---"
   ]
  },
  {
   "cell_type": "markdown",
   "id": "06efcaa3",
   "metadata": {},
   "source": [
    "## Thu, Apr 11th"
   ]
  },
  {
   "cell_type": "markdown",
   "id": "a1a9020a",
   "metadata": {},
   "source": [
    "#### Quantile\n",
    "Given a random variable $X \\sim D$ and a number $\\alpha \\in (0, 1)$, the $\\alpha$-quantile of $X$ is the value $q_\\alpha$ such that\n",
    "\n",
    "$$\n",
    "\\pr(X \\le q_\\alpha) = \\alpha\n",
    "$$\n",
    "\n",
    "In terms of the CDF, this is\n",
    "\n",
    "$$\n",
    "F_X(q_\\alpha) = \\alpha\n",
    "$$\n",
    "\n",
    "In other words, $q_\\alpha$ is the value such that the probability that $X$ is less than or equal to $q_\\alpha$ is exactly $\\alpha$."
   ]
  },
  {
   "cell_type": "markdown",
   "id": "a7859145",
   "metadata": {},
   "source": [
    "### Empirical CDF\n",
    "\n",
    "Given samples $X_1, X_2, \\dots, X_n$ from a random variable $X$, the empirical CDF is given by\n",
    "\n",
    "$$\n",
    "\\hat{F}_n(x) = \\frac{1}{n} \\sum_{i=1}^n I(X_i \\le x)\n",
    "$$\n",
    "\n",
    "where $I(X_i \\le x)$ is the indicator function, i.e., \n",
    "\n",
    "$$\n",
    "I(X_i \\le x) = \\begin{cases}\n",
    "1 & \\text{if } X_i \\le x \\\\\n",
    "0 & \\text{if } X_i > x\n",
    "\\end{cases}\n",
    "$$\n",
    "\n",
    "Using the empricial CDF, $\\hat F_n(x)$, we can compute the **empricial quantile** of $\\Xn$, which is \n",
    "\n",
    "$$\n",
    "\\hat q_\\alpha = (100 \\times \\alpha) \\% \\text{ of } \\Xn\n",
    "$$\n"
   ]
  },
  {
   "cell_type": "markdown",
   "id": "ec34dff6",
   "metadata": {},
   "source": [
    "#### Statistic\n",
    "\n",
    "Suppose $\\Xn$ is sampled iid from a distribution $D(\\theta)$ where $\\theta$ is the parameter.\n",
    "\n",
    "Then, intuitively, a statistic $\\hat\\theta \\equiv \\hat\\theta(\\Xn)$ is **our best guess** for the parameter $\\theta$.\n"
   ]
  },
  {
   "cell_type": "markdown",
   "id": "17276790",
   "metadata": {},
   "source": [
    "#### Sampling Distribution\n",
    "\n",
    "Since $\\Xn$ are all random variables, the statistic $\\hat\\theta$ is also random.\n",
    "\n",
    "In words, the sampling distribution of $\\hat\\theta$ is the distribution of $\\hat\\theta$ when $\\Xn$ are drawn from $D(\\theta)$."
   ]
  },
  {
   "cell_type": "markdown",
   "id": "797949bd",
   "metadata": {},
   "source": [
    "#### Intuition behind Sampling Distributions\n",
    "\n",
    "If we call the process of sampling $\\Xn$ from $D(\\theta)$ as a \"**random experiment**\", then let\n",
    "\n",
    "* $\\hat\\theta^{(1)}, \\hat\\theta^{(1)}, \\dots, \\hat\\theta^{(N)}$ be the statistics obtained from each of $N$ random experiments.\n",
    "\n",
    "Then, the sampling distribution of $\\hat\\theta$ roughly is approximated by the distribution of the sample statistics  $\\hat\\theta^{(1)}, \\hat\\theta^{(1)}, \\dots, \\hat\\theta^{(N)}$ obtained from each of $N$ random experiments.\n"
   ]
  },
  {
   "cell_type": "markdown",
   "id": "6bd876d5",
   "metadata": {},
   "source": [
    "---"
   ]
  },
  {
   "cell_type": "markdown",
   "id": "010684cd",
   "metadata": {},
   "source": [
    "#### Confidence Interval\n",
    "\n",
    "The **$100 \\times (1-\\alpha)\\%$ confidence interval** for a parameter $\\theta$ is an interval $[\\la, \\ua]$ such that:\n",
    "\n",
    "$$\n",
    "\\mathbb{P}(\\la \\leq \\theta \\leq \\ua) = 1 - \\alpha\n",
    "$$\n",
    "\n",
    "we denote this as $\\ci(\\theta) = [\\la, \\ua]$."
   ]
  },
  {
   "cell_type": "markdown",
   "id": "dc0ac323",
   "metadata": {},
   "source": [
    "For a statistic $\\hat\\theta$ with standard error $\\se(\\hat\\theta)$ the general formula for the $100 \\times (1-\\alpha)\\%$ confidence interval is given by\n",
    "\n",
    "\n",
    "$$\n",
    "\\ci(\\theta, \\alpha) = \\Big[ \\hat\\theta - q_{1-\\alpha/2} \\times \\se(\\hat\\theta),\\;\\;\\; \\hat\\theta + q_{1-\\alpha/2} \\times \\se(\\hat\\theta) \\Big]\n",
    "$$"
   ]
  },
  {
   "cell_type": "markdown",
   "id": "461fd197",
   "metadata": {},
   "source": [
    "#### Interpretation of Confidence Intervals\n",
    "\n",
    "If we call the process of sampling $\\Xn$ from $D(\\theta)$ as a \"**random experiment**\" where $\\theta^*$ is the true, unknown population parameter.  \n",
    "\n",
    "Let\n",
    "\n",
    "$$\n",
    "[\\la^{(1)}, \\ua^{(1)}], [\\la^{(2)}, \\ua^{(2)}], \\dots, [\\la^{(N)}, \\ua^{(N)}]\n",
    "$$\n",
    "\n",
    "be the $100 \\times (1-\\alpha)\\%$ confidence intervals obtained from each of $N$ random experiments.\n",
    "\n",
    "\n",
    "\n",
    "\n",
    "Then, the guarantee provided by the construction of the confidence interval is that if we were to repeat our random experiment N times and compute the CI of each experiment, approximately \n",
    "$100 \\times (1-\\alpha)\\%$ of these CIs will contain the true population parameter $\\theta^*$."
   ]
  },
  {
   "cell_type": "markdown",
   "id": "36bab632",
   "metadata": {},
   "source": [
    "---"
   ]
  },
  {
   "cell_type": "markdown",
   "id": "cb2e0283",
   "metadata": {},
   "source": [
    "#### Examples of Confidence Intervals (from Math 183 or equivalent)"
   ]
  },
  {
   "cell_type": "markdown",
   "id": "3b9375e3",
   "metadata": {},
   "source": [
    "---"
   ]
  },
  {
   "cell_type": "markdown",
   "id": "92cc1844",
   "metadata": {},
   "source": [
    "§1. One sample Proportion\n",
    "\n",
    "| Description | Answer |\n",
    "|:---|:---|\n",
    "| Assumption | $\\Xn \\sim \\Ber(\\theta)$ |\n",
    "| Population parameter | $\\theta$ = the proportion of success in the population |\n",
    "| Statistic | $\\hat\\theta$ =  the number of successes divided by the sample size $n$ |\n",
    "| Standard Error | $\\se(\\hat\\theta) = \\sqrt{\\frac{\\hat{\\theta}(1-\\hat{\\theta})}{n}}$ |\n",
    "| Sampling distribution | $D_{\\hat\\theta} = N\\left(\\hat{\\theta}, \\frac{\\hat{\\theta}(1-\\hat{\\theta})}{n}\\right)$ |\n",
    "\n",
    "The **99\\% confidence interval** for $\\theta$ is given by\n",
    "\n",
    "$$\n",
    "\\begin{aligned}\n",
    "CI(\\theta, \\alpha)\n",
    " &= \\Bigg[\\hat{\\theta} - z_{0.005} \\cdot \\se, \\ \\  \\hat{\\theta} + z_{0.005} \\cdot \\se \\Bigg]\\\\ \\\\\n",
    " &= \\Bigg[\\hat{\\theta} - 2.576 \\sqrt{\\frac{\\hat{\\theta}(1-\\hat{\\theta})}{n}}, \\ \\  \\hat{\\theta} + 2.576 \\sqrt{\\frac{\\hat{\\theta}(1-\\hat{\\theta})}{n}}\\Bigg]\n",
    "\\end{aligned}\n",
    "$$"
   ]
  },
  {
   "cell_type": "markdown",
   "id": "aef1ab73",
   "metadata": {},
   "source": [
    "---"
   ]
  },
  {
   "cell_type": "markdown",
   "id": "bc3248d4",
   "metadata": {},
   "source": [
    "§2. Difference of two proportions\n",
    "\n",
    "| Description | Answer |\n",
    "|:---|:---|\n",
    "| Assumption | $\\Xn \\sim Ber(\\theta_X)$  and $\\Ym \\sim Ber(\\theta_Y)$|\n",
    "| Population parameter | $\\theta = \\theta_X - \\theta_Y$ |\n",
    "| Statistic | $\\hat\\theta = \\hat{\\theta}_X - \\hat{\\theta}_Y$ |\n",
    "| Standard Error | $\\se(\\hat\\theta) = \\sqrt{\\frac{\\hat{\\theta}_X(1-\\hat{\\theta}_X)}{n} + \\frac{\\hat{\\theta}_Y(1-\\hat{\\theta}_Y)}{m}}$ |\n",
    "| Sampling distribution | $D_{\\hat\\theta} = N\\left( \\hat{\\theta}, \\frac{\\hat{\\theta}_X(1 - \\hat{\\theta}_X)}{n} + \\frac{\\hat{\\theta}_Y(1 - \\hat{\\theta}_Y)}{m} \\right)$ |\n",
    "\n",
    "The **97\\% confidence interval** for $\\theta$ is given by\n",
    "\n",
    "$$\n",
    "\\begin{aligned}\n",
    "CI(\\theta, \\alpha)\n",
    " &= \\Bigg[\\hat{\\theta} - z_{0.015} \\cdot \\se, \\ \\  \\hat{\\theta} + z_{0.015} \\cdot \\se \\Bigg]\\\\ \\\\\n",
    "  &= \\Bigg[\\hat{\\theta} - 2.17 \\cdot \\se, \\ \\  \\hat{\\theta} + 2.17 \\cdot \\se \\Bigg]\\\\ \\\\\n",
    " \\end{aligned} \n",
    "$$"
   ]
  },
  {
   "cell_type": "markdown",
   "id": "94b46b3c",
   "metadata": {},
   "source": [
    "---"
   ]
  },
  {
   "cell_type": "markdown",
   "id": "69079eb7",
   "metadata": {},
   "source": [
    "§3. One sample Mean (with unknown variance)\n",
    "\n",
    "| Description | Answer |\n",
    "|:---|:---|\n",
    "| Assumption | $\\Xn \\sim ...$ |\n",
    "| Population parameter | $\\theta = ...$ |\n",
    "| Statistic | $\\hat\\theta = ...$ |\n",
    "| Standard Error | $\\se(\\hat\\theta) = ...$ |\n",
    "| Sampling distribution | $D_{\\hat\\theta} = ...$ |\n",
    "\n",
    "The **93\\% confidence interval** for $\\theta$ is given by\n",
    "\n",
    "$$\n",
    "\\ci(\\theta, \\alpha) = ...\n",
    "$$"
   ]
  },
  {
   "cell_type": "markdown",
   "id": "11eafd18",
   "metadata": {},
   "source": [
    "---"
   ]
  },
  {
   "cell_type": "markdown",
   "id": "4c9839dc",
   "metadata": {},
   "source": [
    "§1. Difference of two means (with unknown variances)\n",
    "\n",
    "| Description | Answer |\n",
    "|:---|:---|\n",
    "| Assumption | $\\Xn \\sim ...$ and $\\Ym \\sim ...$ |\n",
    "| Population parameter | $\\theta = ...$ |\n",
    "| Statistic | $\\hat\\theta = ...$ |\n",
    "| Standard Error | $\\se(\\hat\\theta) = ...$ |\n",
    "| Sampling distribution | $D_{\\hat\\theta} = ...$ |\n",
    "\n",
    "The **96\\% confidence interval** for $\\theta$ is given by\n",
    "\n",
    "$$\n",
    "\\ci(\\theta, \\alpha) = ...\n",
    "$$"
   ]
  },
  {
   "cell_type": "markdown",
   "id": "1ebed9ba",
   "metadata": {},
   "source": [
    "---"
   ]
  }
 ],
 "metadata": {
  "celltoolbar": "Slideshow",
  "hide_input": false,
  "kernelspec": {
   "display_name": "Python 3 (ipykernel)",
   "language": "python",
   "name": "python3"
  },
  "language_info": {
   "codemirror_mode": {
    "name": "ipython",
    "version": 3
   },
   "file_extension": ".py",
   "mimetype": "text/x-python",
   "name": "python",
   "nbconvert_exporter": "python",
   "pygments_lexer": "ipython3",
   "version": "3.8.18"
  },
  "toc": {
   "base_numbering": 2
  }
 },
 "nbformat": 4,
 "nbformat_minor": 5
}
